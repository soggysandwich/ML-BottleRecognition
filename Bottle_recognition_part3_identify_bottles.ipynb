{
  "nbformat": 4,
  "nbformat_minor": 0,
  "metadata": {
    "colab": {
      "name": "Bottle_recognition_part3_identify_bottles.ipynb",
      "provenance": [],
      "collapsed_sections": [],
      "toc_visible": true,
      "mount_file_id": "1sykDCgenKpqd1YuI_hNL4Gd4F4eNe6VG",
      "authorship_tag": "ABX9TyMaI3PdZdFXUV3LdIi5Wmbd",
      "include_colab_link": true
    },
    "kernelspec": {
      "name": "python3",
      "display_name": "Python 3"
    }
  },
  "cells": [
    {
      "cell_type": "markdown",
      "metadata": {
        "id": "view-in-github",
        "colab_type": "text"
      },
      "source": [
        "<a href=\"https://colab.research.google.com/github/zebedy-magic/BottleImageRecognition/blob/master/Bottle_recognition_part3_identify_bottles.ipynb\" target=\"_parent\"><img src=\"https://colab.research.google.com/assets/colab-badge.svg\" alt=\"Open In Colab\"/></a>"
      ]
    },
    {
      "cell_type": "markdown",
      "metadata": {
        "id": "_S-fMYowc3xO",
        "colab_type": "text"
      },
      "source": [
        "## Part 3 - Identification time !!\n",
        "\n",
        "\n",
        "Lets try and see if we can identify a bottle compared to anything else so this is a binary problem..is it a bottle ? Yes/No \n",
        "\n",
        "We will try an add some more features such as the HOG algorithm \n",
        "\n",
        "Do we need color ? \n",
        "Can we pass the image in as is as an array \n",
        "Do we need other features added ? \n",
        "\n",
        "Lets try simple an SVM with just with gray images passed in \n",
        "\n",
        "\n",
        "\n"
      ]
    },
    {
      "cell_type": "code",
      "metadata": {
        "id": "3v6AchcTFhoI",
        "colab_type": "code",
        "colab": {}
      },
      "source": [
        "import pandas as pd \n",
        "from os.path import join\n",
        "from PIL import Image\n",
        "import numpy as np\n",
        "\n",
        "from sklearn.preprocessing import StandardScaler\n",
        "from sklearn.decomposition import PCA\n",
        "\n",
        "# import train_test_split from sklearn's model selection module\n",
        "from sklearn.model_selection import train_test_split\n",
        "\n",
        "# import SVC from sklearn's svm module\n",
        "from sklearn.svm import SVC\n",
        "\n",
        "# import accuracy_score from sklearn's metrics module\n",
        "from sklearn.metrics import roc_curve, auc, accuracy_score\n",
        "\n",
        "\n",
        "#root directory\n",
        "root='/content/drive/My Drive/'\n",
        "\n",
        "image_path=join(root,'images','processed')\n"
      ],
      "execution_count": 0,
      "outputs": []
    },
    {
      "cell_type": "code",
      "metadata": {
        "id": "Pjuuu0LXx9-8",
        "colab_type": "code",
        "colab": {}
      },
      "source": [
        "def get_image(filename,image_path):\n",
        "  #get the image\n",
        "  img=Image.open(join(image_path,filename))\n",
        "  return np.array(img)"
      ],
      "execution_count": 0,
      "outputs": []
    },
    {
      "cell_type": "code",
      "metadata": {
        "id": "3zp8D4cSr6Nc",
        "colab_type": "code",
        "colab": {}
      },
      "source": [
        "#lets get image and create some features (first lets just flatten and nothing more )\n",
        "\n",
        "def create_features(img):\n",
        "  #lets just flatten the image and thats it for now \n",
        "  feature=img.flatten()\n",
        "  \n",
        "  return feature\n"
      ],
      "execution_count": 0,
      "outputs": []
    },
    {
      "cell_type": "code",
      "metadata": {
        "id": "vo5oO2aSvnSN",
        "colab_type": "code",
        "colab": {}
      },
      "source": [
        "def create_matrix(labels):\n",
        "  #create feature matrix using the creat features \n",
        "  lst_images=[]\n",
        "  #loop through the images .get the features and append to a list\n",
        "  for image in labels.index:\n",
        "    img_arr=get_image(image,image_path)\n",
        "    \n",
        "    feature=create_features(img_arr)\n",
        "    \n",
        "    lst_images.append(feature)\n",
        "  #use array to make it into one big matrix\n",
        "  matrix=np.array(lst_images)\n",
        "  return matrix"
      ],
      "execution_count": 0,
      "outputs": []
    },
    {
      "cell_type": "code",
      "metadata": {
        "id": "9PRg3nRGQX6x",
        "colab_type": "code",
        "colab": {}
      },
      "source": [
        "def get_ss_pca(matrix):\n",
        "  \n",
        "  #lets use the standard scaler to scale for algorithm\n",
        "  ss=StandardScaler()\n",
        "  ss_matrix=ss.fit_transform(matrix)\n",
        "\n",
        "  #this reduces the number of features so less power needed to work on problem \n",
        "  pca=PCA(n_components=24)\n",
        "  ss_pca=pca.fit_transform(ss_matrix)\n",
        "  return ss_pca\n",
        "\n",
        "  "
      ],
      "execution_count": 0,
      "outputs": []
    },
    {
      "cell_type": "markdown",
      "metadata": {
        "id": "VF5LkigrY4qX",
        "colab_type": "text"
      },
      "source": [
        ""
      ]
    },
    {
      "cell_type": "code",
      "metadata": {
        "id": "ZrnoisiOd5NN",
        "colab_type": "code",
        "outputId": "c65959ee-94f8-4725-fdac-625741689d5c",
        "colab": {
          "base_uri": "https://localhost:8080/",
          "height": 295
        }
      },
      "source": [
        "#lets get in the labels as a DataFrame \n",
        "#\n",
        "\n",
        "labels=pd.read_csv(join(root,'labels.csv'),index_col=0)\n",
        "print(labels.head())\n",
        "print(labels.info())\n",
        "\n"
      ],
      "execution_count": 0,
      "outputs": [
        {
          "output_type": "stream",
          "text": [
            "                                 bottle\n",
            "image                                  \n",
            "2020-04-25 12:01:24.739043.jpeg       1\n",
            "2020-04-25 12:01:26.103276.jpeg       0\n",
            "2020-04-25 12:01:27.977304.jpeg       0\n",
            "2020-04-25 12:01:29.199803.jpeg       1\n",
            "2020-04-25 12:01:30.760437.jpeg       0\n",
            "<class 'pandas.core.frame.DataFrame'>\n",
            "Index: 24 entries, 2020-04-25 12:01:24.739043.jpeg to 2020-04-26 10:38:31.630673.jpeg\n",
            "Data columns (total 1 columns):\n",
            " #   Column  Non-Null Count  Dtype\n",
            "---  ------  --------------  -----\n",
            " 0   bottle  24 non-null     int64\n",
            "dtypes: int64(1)\n",
            "memory usage: 384.0+ bytes\n",
            "None\n"
          ],
          "name": "stdout"
        }
      ]
    },
    {
      "cell_type": "code",
      "metadata": {
        "id": "r78lUsjZ2r9F",
        "colab_type": "code",
        "outputId": "da41b9ae-773b-4cda-981a-c332a42750c4",
        "colab": {
          "base_uri": "https://localhost:8080/",
          "height": 52
        }
      },
      "source": [
        "#create the matrix of features\n",
        "matrix=create_matrix(labels)\n",
        "print(matrix.shape)\n",
        "\n",
        "#create the standardisatiom and PCA matrix of features\n",
        "ss_matrix=get_ss_pca(matrix)\n",
        "print(ss_matrix.shape)"
      ],
      "execution_count": 0,
      "outputs": [
        {
          "output_type": "stream",
          "text": [
            "(24, 40000)\n",
            "(24, 24)\n"
          ],
          "name": "stdout"
        }
      ]
    },
    {
      "cell_type": "code",
      "metadata": {
        "id": "-nayWi4YJli1",
        "colab_type": "code",
        "colab": {}
      },
      "source": [
        "#lets do the train test split ... the matrix of images is in the same order as the labels DF\n",
        " \n",
        "\n",
        "X_train, X_test, y_train, y_test = train_test_split(ss_matrix,\n",
        "                                                    labels.bottle.values,\n",
        "                                                    test_size=.3,\n",
        "                                                    )"
      ],
      "execution_count": 0,
      "outputs": []
    },
    {
      "cell_type": "code",
      "metadata": {
        "id": "EuF3xKpMbeP9",
        "colab_type": "code",
        "outputId": "c859fd6d-bb00-4ab8-e072-a8dab9cdb739",
        "colab": {
          "base_uri": "https://localhost:8080/",
          "height": 87
        }
      },
      "source": [
        "#Lets do the SVM \n",
        "#as this is binary going to use SVC (support vector classifier)\n",
        "svc=SVC(kernel='linear',probability=True)\n",
        "svc.fit(X_train,y_train)\n"
      ],
      "execution_count": 0,
      "outputs": [
        {
          "output_type": "execute_result",
          "data": {
            "text/plain": [
              "SVC(C=1.0, break_ties=False, cache_size=200, class_weight=None, coef0=0.0,\n",
              "    decision_function_shape='ovr', degree=3, gamma='scale', kernel='linear',\n",
              "    max_iter=-1, probability=True, random_state=None, shrinking=True, tol=0.001,\n",
              "    verbose=False)"
            ]
          },
          "metadata": {
            "tags": []
          },
          "execution_count": 31
        }
      ]
    },
    {
      "cell_type": "code",
      "metadata": {
        "id": "OZbDF9sac0SS",
        "colab_type": "code",
        "outputId": "4084850a-7d71-478c-e368-f8dfa608dce1",
        "colab": {
          "base_uri": "https://localhost:8080/",
          "height": 52
        }
      },
      "source": [
        "#lets see the accuracy \n",
        "pred=svc.predict(X_test)\n",
        "\n",
        "accuracy=accuracy_score(pred,y_test)\n",
        "\n",
        "print('Accuracy is {0} '.format(accuracy))\n",
        "\n",
        "#to do ROC "
      ],
      "execution_count": 0,
      "outputs": [
        {
          "output_type": "stream",
          "text": [
            "[1 0 0 0 0 1 1 0] [1 0 0 0 0 1 1 0]\n",
            "Accuracy is 1.0 \n"
          ],
          "name": "stdout"
        }
      ]
    },
    {
      "cell_type": "markdown",
      "metadata": {
        "id": "ftY-UUJUl_K-",
        "colab_type": "text"
      },
      "source": [
        "1st try : Wow 100% accuracy with just using a matrix of a grayscaled image .. maybe we are overfitting so need to try more images than 24 "
      ]
    }
  ]
}