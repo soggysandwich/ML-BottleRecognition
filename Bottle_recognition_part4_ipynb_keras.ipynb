{
  "nbformat": 4,
  "nbformat_minor": 0,
  "metadata": {
    "colab": {
      "name": "Bottle_recognition_part4.ipynb -keras",
      "provenance": [],
      "collapsed_sections": [],
      "mount_file_id": "1Geg2B-BMozZzxO8BtLIv7-M_yOgYGM65",
      "authorship_tag": "ABX9TyN/x93f0gZ28vqqmazgvIaM",
      "include_colab_link": true
    },
    "kernelspec": {
      "name": "python3",
      "display_name": "Python 3"
    }
  },
  "cells": [
    {
      "cell_type": "markdown",
      "metadata": {
        "id": "view-in-github",
        "colab_type": "text"
      },
      "source": [
        "<a href=\"https://colab.research.google.com/github/zebedy-magic/BottleImageRecognition/blob/master/Bottle_recognition_part4_ipynb_keras.ipynb\" target=\"_parent\"><img src=\"https://colab.research.google.com/assets/colab-badge.svg\" alt=\"Open In Colab\"/></a>"
      ]
    },
    {
      "cell_type": "markdown",
      "metadata": {
        "id": "WGeRpA3pflDd",
        "colab_type": "text"
      },
      "source": [
        "Lets try a neural network and \n",
        "Lets experiment with our images \n",
        " \n",
        " \n",
        "\n",
        "*   I am going to create a really simple network first to see if a binary classiifcation works\n",
        "*   Next maybe a CNN convoluted nueral network for more sophisticated recognition\n",
        "\n"
      ]
    },
    {
      "cell_type": "code",
      "metadata": {
        "id": "s5wZn-90fkRa",
        "colab_type": "code",
        "colab": {}
      },
      "source": [
        "from keras.models import Sequential\n",
        "from keras.layers import Dense\n",
        "from keras.utils.np_utils import to_categorical\n",
        "from keras.callbacks import EarlyStopping\n",
        "\n",
        "from sklearn.preprocessing import StandardScaler\n",
        "from sklearn.model_selection import train_test_split\n",
        "from sklearn.metrics import classification_report\n",
        "\n",
        "import pandas as pd\n",
        "from os.path import join\n",
        "from PIL import Image\n",
        "import numpy as np\n",
        "\n",
        "#root directory\n",
        "root='/content/drive/My Drive/'\n",
        "\n",
        "image_path=join(root,'images','processed')\n",
        "\n",
        "#test\n",
        "\n",
        "image_path=join(root,'images','test','processed')"
      ],
      "execution_count": 96,
      "outputs": []
    },
    {
      "cell_type": "code",
      "metadata": {
        "id": "Pjuuu0LXx9-8",
        "colab_type": "code",
        "colab": {}
      },
      "source": [
        "def get_image(filename,image_path):\n",
        "  #get the image\n",
        "  img=Image.open(join(image_path,filename))\n",
        "  return np.array(img)"
      ],
      "execution_count": 66,
      "outputs": []
    },
    {
      "cell_type": "code",
      "metadata": {
        "id": "aHC7FqVVE2SD",
        "colab_type": "code",
        "colab": {}
      },
      "source": [
        "def get_all_images(labels):\n",
        "  lst_images=[]\n",
        "  for image in labels.index:\n",
        "    img_arr=get_image(image,image_path)\n",
        "    lst_images.append(img_arr)\n",
        "    matrix=np.array(lst_images)\n",
        "  return matrix"
      ],
      "execution_count": 67,
      "outputs": []
    },
    {
      "cell_type": "code",
      "metadata": {
        "id": "OCOVQiLfkuqC",
        "colab_type": "code",
        "colab": {}
      },
      "source": [
        "def create_matrix(labels):\n",
        "  #create feature matrix using the creat features \n",
        "  lst_images=[]\n",
        "  #loop through the images .get the features and append to a list\n",
        "  for image in labels.index:\n",
        "    img_arr=get_image(image,image_path)\n",
        "    img_flat=img_arr.flatten()\n",
        "   \n",
        "    \n",
        "    lst_images.append(img_flat)\n",
        "  #use array to make it into one big matrix\n",
        "  matrix=np.array(lst_images)\n",
        "  return matrix"
      ],
      "execution_count": 68,
      "outputs": []
    },
    {
      "cell_type": "code",
      "metadata": {
        "id": "jfJ6i9BQiMat",
        "colab_type": "code",
        "colab": {
          "base_uri": "https://localhost:8080/",
          "height": 295
        },
        "outputId": "a1992c61-1a82-4ca8-d6df-9d716d61ebbc"
      },
      "source": [
        "#load the training set \n",
        "labels=pd.read_csv(join(root,'labels.csv'),index_col=0)\n",
        "print(labels.head())\n",
        "print(labels.info())\n",
        "target=to_categorical(labels['bottle'])\n"
      ],
      "execution_count": 69,
      "outputs": [
        {
          "output_type": "stream",
          "text": [
            "                                 bottle\n",
            "image                                  \n",
            "2020-04-25 12:01:24.739043.jpeg       1\n",
            "2020-04-25 12:01:26.103276.jpeg       0\n",
            "2020-04-25 12:01:27.977304.jpeg       0\n",
            "2020-04-25 12:01:29.199803.jpeg       1\n",
            "2020-04-25 12:01:30.760437.jpeg       0\n",
            "<class 'pandas.core.frame.DataFrame'>\n",
            "Index: 439 entries, 2020-04-25 12:01:24.739043.jpeg to 2020-06-23 08:54:16.864046.jpeg\n",
            "Data columns (total 1 columns):\n",
            " #   Column  Non-Null Count  Dtype\n",
            "---  ------  --------------  -----\n",
            " 0   bottle  439 non-null    int64\n",
            "dtypes: int64(1)\n",
            "memory usage: 6.9+ KB\n",
            "None\n"
          ],
          "name": "stdout"
        }
      ]
    },
    {
      "cell_type": "code",
      "metadata": {
        "id": "h-T73gmAjtGP",
        "colab_type": "code",
        "colab": {
          "base_uri": "https://localhost:8080/",
          "height": 35
        },
        "outputId": "049ef042-f80a-4f2a-ae74-6c606816245a"
      },
      "source": [
        "\n",
        "\n",
        "matrix=create_matrix(labels)\n",
        "print(matrix.shape)\n",
        "\n",
        "ss=StandardScaler()\n",
        "ss_matrix=ss.fit_transform(matrix)\n",
        "\n"
      ],
      "execution_count": null,
      "outputs": [
        {
          "output_type": "stream",
          "text": [
            "(439, 40000)\n"
          ],
          "name": "stdout"
        }
      ]
    },
    {
      "cell_type": "code",
      "metadata": {
        "id": "dN88aU_Zn3Gj",
        "colab_type": "code",
        "colab": {
          "base_uri": "https://localhost:8080/",
          "height": 260
        },
        "outputId": "0585e473-e60b-4d0b-ae3e-45a3443f2fae"
      },
      "source": [
        "#lets create a basic dense network with keras and use the processed images \n",
        "\n",
        "early_stopping_monitor=EarlyStopping(patience=3)\n",
        "\n",
        "model= Sequential()\n",
        "\n",
        "model.add(Dense(200,activation='relu',input_shape=(40000,)))\n",
        "\n",
        "model.add(Dense(200,activation='relu'))\n",
        "\n",
        "\n",
        "\n",
        "model.add(Dense(2,activation='softmax'))\n",
        "\n",
        "model.compile(optimizer='adam',loss='categorical_crossentropy',metrics=['accuracy'])\n",
        "\n",
        "model.fit(ss_matrix,target,validation_split=0.2,epochs=30,callbacks=[early_stopping_monitor])"
      ],
      "execution_count": null,
      "outputs": [
        {
          "output_type": "stream",
          "text": [
            "Train on 351 samples, validate on 88 samples\n",
            "Epoch 1/30\n",
            "351/351 [==============================] - 1s 4ms/step - loss: 9.4744 - accuracy: 0.7379 - val_loss: 1.0623 - val_accuracy: 0.9432\n",
            "Epoch 2/30\n",
            "351/351 [==============================] - 1s 4ms/step - loss: 6.5820 - accuracy: 0.8319 - val_loss: 0.8913 - val_accuracy: 0.9773\n",
            "Epoch 3/30\n",
            "351/351 [==============================] - 1s 3ms/step - loss: 1.8686 - accuracy: 0.9231 - val_loss: 0.0408 - val_accuracy: 0.9886\n",
            "Epoch 4/30\n",
            "351/351 [==============================] - 1s 3ms/step - loss: 0.8655 - accuracy: 0.9544 - val_loss: 0.3390 - val_accuracy: 0.9773\n",
            "Epoch 5/30\n",
            "351/351 [==============================] - 1s 3ms/step - loss: 0.7981 - accuracy: 0.9516 - val_loss: 0.2475 - val_accuracy: 0.9773\n",
            "Epoch 6/30\n",
            "351/351 [==============================] - 1s 3ms/step - loss: 0.9784 - accuracy: 0.9288 - val_loss: 0.3527 - val_accuracy: 0.9773\n"
          ],
          "name": "stdout"
        },
        {
          "output_type": "execute_result",
          "data": {
            "text/plain": [
              "<keras.callbacks.callbacks.History at 0x7fe437fd9f60>"
            ]
          },
          "metadata": {
            "tags": []
          },
          "execution_count": 55
        }
      ]
    },
    {
      "cell_type": "code",
      "metadata": {
        "id": "rvaKGyS9cHvB",
        "colab_type": "code",
        "colab": {
          "base_uri": "https://localhost:8080/",
          "height": 295
        },
        "outputId": "f79eabaa-fab8-49b8-e025-f6b57c59066b"
      },
      "source": [
        "#lets try and evaluate on unknown test set \n",
        "#load in test_data\n",
        "labels_test=pd.read_csv(join(root,'labels_test.csv'),index_col=0)\n",
        "print(labels_test.head())\n",
        "print(labels_test.info())\n",
        "target_test=to_categorical(labels_test['bottle'])\n",
        "\n"
      ],
      "execution_count": 94,
      "outputs": [
        {
          "output_type": "stream",
          "text": [
            "                                 bottle\n",
            "image                                  \n",
            "2020-06-23 13:17:46.741908.jpeg       1\n",
            "2020-06-23 13:17:45.446242.jpeg       1\n",
            "2020-06-23 13:17:43.266535.jpeg       1\n",
            "2020-06-23 13:17:44.312072.jpeg       1\n",
            "2020-06-23 13:17:42.124396.jpeg       1\n",
            "<class 'pandas.core.frame.DataFrame'>\n",
            "Index: 10 entries, 2020-06-23 13:17:46.741908.jpeg to crap.jpeg\n",
            "Data columns (total 1 columns):\n",
            " #   Column  Non-Null Count  Dtype\n",
            "---  ------  --------------  -----\n",
            " 0   bottle  10 non-null     int64\n",
            "dtypes: int64(1)\n",
            "memory usage: 160.0+ bytes\n",
            "None\n"
          ],
          "name": "stdout"
        }
      ]
    },
    {
      "cell_type": "code",
      "metadata": {
        "colab_type": "code",
        "id": "9Xncv7R3daif",
        "colab": {
          "base_uri": "https://localhost:8080/",
          "height": 35
        },
        "outputId": "e12506cd-ce90-4819-9baf-7b02cdf33eed"
      },
      "source": [
        "\n",
        "\n",
        "matrix_test=create_matrix(labels_test)\n",
        "print(matrix_test.shape)\n",
        "\n",
        "\n",
        "ss_matrix_test=ss.fit_transform(matrix_test)\n",
        "\n"
      ],
      "execution_count": 97,
      "outputs": [
        {
          "output_type": "stream",
          "text": [
            "(10, 40000)\n"
          ],
          "name": "stdout"
        }
      ]
    },
    {
      "cell_type": "code",
      "metadata": {
        "id": "L-nQQmr-dRIN",
        "colab_type": "code",
        "colab": {
          "base_uri": "https://localhost:8080/",
          "height": 52
        },
        "outputId": "a33d0942-2e77-4fd8-c62a-d8b2156a6852"
      },
      "source": [
        "model.evaluate(ss_matrix_test,target_test)"
      ],
      "execution_count": null,
      "outputs": [
        {
          "output_type": "stream",
          "text": [
            "\r10/10 [==============================] - 0s 1ms/step\n"
          ],
          "name": "stdout"
        },
        {
          "output_type": "execute_result",
          "data": {
            "text/plain": [
              "[2.1252803802490234, 0.8999999761581421]"
            ]
          },
          "metadata": {
            "tags": []
          },
          "execution_count": 56
        }
      ]
    },
    {
      "cell_type": "markdown",
      "metadata": {
        "id": "tR1HVFTdIdPW",
        "colab_type": "text"
      },
      "source": [
        "lets use a CNN and see if this is better \n"
      ]
    },
    {
      "cell_type": "code",
      "metadata": {
        "id": "G4r80wvPDSLq",
        "colab_type": "code",
        "colab": {}
      },
      "source": [
        "from keras.layers import Conv2D,Flatten\n"
      ],
      "execution_count": 57,
      "outputs": []
    },
    {
      "cell_type": "code",
      "metadata": {
        "id": "pVZ2imK4Ek55",
        "colab_type": "code",
        "colab": {}
      },
      "source": [
        "#get images not flattened \n",
        "def get_matrix(labels):\n",
        "  matrix_3d=get_all_images(labels)\n",
        "  matrix=np.reshape(matrix_3d,(matrix_3d.shape[0],200,200,1))\n",
        "  \n",
        "  return matrix"
      ],
      "execution_count": 91,
      "outputs": []
    },
    {
      "cell_type": "code",
      "metadata": {
        "id": "I5T2ldzXDNgf",
        "colab_type": "code",
        "colab": {
          "base_uri": "https://localhost:8080/",
          "height": 228
        },
        "outputId": "5020c39b-c295-47b2-b3d8-435400961b3a"
      },
      "source": [
        "matrix=get_matrix(labels_test)\n",
        "print(matrix.shape)\n",
        "\n",
        "model=Sequential()\n",
        "model.add(Conv2D(10,kernel_size=3,activation='relu',input_shape=(200,200,1)))\n",
        "model.add(Flatten())\n",
        "model.add(Dense(2,activation='softmax'))\n",
        "model.compile(optimizer='adam',loss='categorical_crossentropy',metrics=['accuracy'])\n",
        "model.fit(matrix,target,validation_split=0.3,epochs=30,callbacks=[early_stopping_monitor])"
      ],
      "execution_count": 82,
      "outputs": [
        {
          "output_type": "stream",
          "text": [
            "(439, 200, 200, 1)\n",
            "Train on 307 samples, validate on 132 samples\n",
            "Epoch 1/30\n",
            "307/307 [==============================] - 3s 11ms/step - loss: 1913.6351 - accuracy: 0.5342 - val_loss: 0.0000e+00 - val_accuracy: 1.0000\n",
            "Epoch 2/30\n",
            "307/307 [==============================] - 3s 11ms/step - loss: 1722.3876 - accuracy: 0.5114 - val_loss: 2316.9906 - val_accuracy: 0.0000e+00\n",
            "Epoch 3/30\n",
            "307/307 [==============================] - 3s 11ms/step - loss: 561.3417 - accuracy: 0.5863 - val_loss: 56.3857 - val_accuracy: 0.8182\n",
            "Epoch 4/30\n",
            "307/307 [==============================] - 3s 11ms/step - loss: 255.8408 - accuracy: 0.7296 - val_loss: 9.2462 - val_accuracy: 0.9773\n"
          ],
          "name": "stdout"
        },
        {
          "output_type": "execute_result",
          "data": {
            "text/plain": [
              "<keras.callbacks.callbacks.History at 0x7fe4377b4f28>"
            ]
          },
          "metadata": {
            "tags": []
          },
          "execution_count": 82
        }
      ]
    },
    {
      "cell_type": "code",
      "metadata": {
        "id": "M2srU5vGH3LJ",
        "colab_type": "code",
        "colab": {
          "base_uri": "https://localhost:8080/",
          "height": 52
        },
        "outputId": "b6dd8475-8180-4b56-e1f0-7f476ad2b9a5"
      },
      "source": [
        "matrix_test=get_matrix(labels_test)\n",
        "model.evaluate(matrix_test,target_test)"
      ],
      "execution_count": 98,
      "outputs": [
        {
          "output_type": "stream",
          "text": [
            "\r10/10 [==============================] - 0s 6ms/step\n"
          ],
          "name": "stdout"
        },
        {
          "output_type": "execute_result",
          "data": {
            "text/plain": [
              "[79.42049407958984, 0.8999999761581421]"
            ]
          },
          "metadata": {
            "tags": []
          },
          "execution_count": 98
        }
      ]
    }
  ]
}