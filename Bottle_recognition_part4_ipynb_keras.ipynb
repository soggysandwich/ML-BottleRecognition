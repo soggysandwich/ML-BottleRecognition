{
  "nbformat": 4,
  "nbformat_minor": 0,
  "metadata": {
    "colab": {
      "name": "Bottle_recognition_part4.ipynb -keras",
      "provenance": [],
      "collapsed_sections": [],
      "mount_file_id": "1Geg2B-BMozZzxO8BtLIv7-M_yOgYGM65",
      "authorship_tag": "ABX9TyNRT6BtkIwgma76TBYABOah",
      "include_colab_link": true
    },
    "kernelspec": {
      "name": "python3",
      "display_name": "Python 3"
    }
  },
  "cells": [
    {
      "cell_type": "markdown",
      "metadata": {
        "id": "view-in-github",
        "colab_type": "text"
      },
      "source": [
        "<a href=\"https://colab.research.google.com/github/zebedy-magic/BottleImageRecognition/blob/master/Bottle_recognition_part4_ipynb_keras.ipynb\" target=\"_parent\"><img src=\"https://colab.research.google.com/assets/colab-badge.svg\" alt=\"Open In Colab\"/></a>"
      ]
    },
    {
      "cell_type": "markdown",
      "metadata": {
        "id": "WGeRpA3pflDd",
        "colab_type": "text"
      },
      "source": [
        "Lets try a neural network and \n",
        "Lets experiment with our images \n",
        " \n",
        " \n",
        "\n",
        "*   I am going to create a really simple network first to see if a binary classiifcation works\n",
        "*   Next maybe a CNN convoluted nueral network for more sophisticated recognition\n",
        "\n"
      ]
    },
    {
      "cell_type": "code",
      "metadata": {
        "id": "s5wZn-90fkRa",
        "colab_type": "code",
        "colab": {
          "base_uri": "https://localhost:8080/",
          "height": 35
        },
        "outputId": "ac2715bf-0b97-45ba-dd1c-78f97d48fdba"
      },
      "source": [
        "from keras.models import Sequential\n",
        "from keras.layers import Dense\n",
        "from keras.utils.np_utils import to_categorical\n",
        "from keras.callbacks import EarlyStopping\n",
        "\n",
        "from sklearn.preprocessing import StandardScaler\n",
        "from sklearn.model_selection import train_test_split\n",
        "from sklearn.metrics import classification_report\n",
        "\n",
        "import pandas as pd\n",
        "from os.path import join\n",
        "from PIL import Image\n",
        "import numpy as np\n",
        "\n",
        "#root directory\n",
        "root='/content/drive/My Drive/'\n",
        "\n",
        "image_path=join(root,'images','processed')\n",
        "\n"
      ],
      "execution_count": 1,
      "outputs": [
        {
          "output_type": "stream",
          "text": [
            "Using TensorFlow backend.\n"
          ],
          "name": "stderr"
        }
      ]
    },
    {
      "cell_type": "code",
      "metadata": {
        "id": "Pjuuu0LXx9-8",
        "colab_type": "code",
        "colab": {}
      },
      "source": [
        "def get_image(filename,image_path):\n",
        "  #get the image\n",
        "  img=Image.open(join(image_path,filename))\n",
        "  return np.array(img)"
      ],
      "execution_count": 2,
      "outputs": []
    },
    {
      "cell_type": "code",
      "metadata": {
        "id": "OCOVQiLfkuqC",
        "colab_type": "code",
        "colab": {}
      },
      "source": [
        "def create_matrix(labels):\n",
        "  #create feature matrix using the creat features \n",
        "  lst_images=[]\n",
        "  #loop through the images .get the features and append to a list\n",
        "  for image in labels.index:\n",
        "    img_arr=get_image(image,image_path)\n",
        "    img_flat=img_arr.flatten()\n",
        "   #use the standard _scaler on each image -grey scale so only one channel  \n",
        "    #ss=StandardScaler()\n",
        "    #ss_matrix=ss.fit_transform(img_flat)\n",
        "    \n",
        "    lst_images.append(img_flat)\n",
        "  #use array to make it into one big matrix\n",
        "  matrix=np.array(lst_images)\n",
        "  return matrix"
      ],
      "execution_count": 3,
      "outputs": []
    },
    {
      "cell_type": "code",
      "metadata": {
        "id": "jfJ6i9BQiMat",
        "colab_type": "code",
        "colab": {
          "base_uri": "https://localhost:8080/",
          "height": 295
        },
        "outputId": "a205e0c5-81f2-4dd1-8214-1f39ea7aa066"
      },
      "source": [
        "#load the training set \n",
        "labels=pd.read_csv(join(root,'labels.csv'),index_col=0)\n",
        "print(labels.head())\n",
        "print(labels.info())\n",
        "target=to_categorical(labels['bottle'])\n"
      ],
      "execution_count": 46,
      "outputs": [
        {
          "output_type": "stream",
          "text": [
            "                                 bottle\n",
            "image                                  \n",
            "2020-04-25 12:01:24.739043.jpeg       1\n",
            "2020-04-25 12:01:26.103276.jpeg       0\n",
            "2020-04-25 12:01:27.977304.jpeg       0\n",
            "2020-04-25 12:01:29.199803.jpeg       1\n",
            "2020-04-25 12:01:30.760437.jpeg       0\n",
            "<class 'pandas.core.frame.DataFrame'>\n",
            "Index: 439 entries, 2020-04-25 12:01:24.739043.jpeg to 2020-06-23 08:54:16.864046.jpeg\n",
            "Data columns (total 1 columns):\n",
            " #   Column  Non-Null Count  Dtype\n",
            "---  ------  --------------  -----\n",
            " 0   bottle  439 non-null    int64\n",
            "dtypes: int64(1)\n",
            "memory usage: 6.9+ KB\n",
            "None\n"
          ],
          "name": "stdout"
        }
      ]
    },
    {
      "cell_type": "code",
      "metadata": {
        "id": "h-T73gmAjtGP",
        "colab_type": "code",
        "colab": {
          "base_uri": "https://localhost:8080/",
          "height": 35
        },
        "outputId": "049ef042-f80a-4f2a-ae74-6c606816245a"
      },
      "source": [
        "\n",
        "\n",
        "matrix=create_matrix(labels)\n",
        "print(matrix.shape)\n",
        "\n",
        "ss=StandardScaler()\n",
        "ss_matrix=ss.fit_transform(matrix)\n",
        "\n"
      ],
      "execution_count": 47,
      "outputs": [
        {
          "output_type": "stream",
          "text": [
            "(439, 40000)\n"
          ],
          "name": "stdout"
        }
      ]
    },
    {
      "cell_type": "code",
      "metadata": {
        "id": "dN88aU_Zn3Gj",
        "colab_type": "code",
        "colab": {
          "base_uri": "https://localhost:8080/",
          "height": 260
        },
        "outputId": "0585e473-e60b-4d0b-ae3e-45a3443f2fae"
      },
      "source": [
        "#lets create a basic dense network with keras and use the processed images \n",
        "\n",
        "early_stopping_monitor=EarlyStopping(patience=3)\n",
        "\n",
        "model= Sequential()\n",
        "\n",
        "model.add(Dense(200,activation='relu',input_shape=(40000,)))\n",
        "\n",
        "model.add(Dense(200,activation='relu'))\n",
        "\n",
        "\n",
        "\n",
        "model.add(Dense(2,activation='softmax'))\n",
        "\n",
        "model.compile(optimizer='adam',loss='categorical_crossentropy',metrics=['accuracy'])\n",
        "\n",
        "model.fit(ss_matrix,target,validation_split=0.2,epochs=30,callbacks=[early_stopping_monitor])"
      ],
      "execution_count": 55,
      "outputs": [
        {
          "output_type": "stream",
          "text": [
            "Train on 351 samples, validate on 88 samples\n",
            "Epoch 1/30\n",
            "351/351 [==============================] - 1s 4ms/step - loss: 9.4744 - accuracy: 0.7379 - val_loss: 1.0623 - val_accuracy: 0.9432\n",
            "Epoch 2/30\n",
            "351/351 [==============================] - 1s 4ms/step - loss: 6.5820 - accuracy: 0.8319 - val_loss: 0.8913 - val_accuracy: 0.9773\n",
            "Epoch 3/30\n",
            "351/351 [==============================] - 1s 3ms/step - loss: 1.8686 - accuracy: 0.9231 - val_loss: 0.0408 - val_accuracy: 0.9886\n",
            "Epoch 4/30\n",
            "351/351 [==============================] - 1s 3ms/step - loss: 0.8655 - accuracy: 0.9544 - val_loss: 0.3390 - val_accuracy: 0.9773\n",
            "Epoch 5/30\n",
            "351/351 [==============================] - 1s 3ms/step - loss: 0.7981 - accuracy: 0.9516 - val_loss: 0.2475 - val_accuracy: 0.9773\n",
            "Epoch 6/30\n",
            "351/351 [==============================] - 1s 3ms/step - loss: 0.9784 - accuracy: 0.9288 - val_loss: 0.3527 - val_accuracy: 0.9773\n"
          ],
          "name": "stdout"
        },
        {
          "output_type": "execute_result",
          "data": {
            "text/plain": [
              "<keras.callbacks.callbacks.History at 0x7fe437fd9f60>"
            ]
          },
          "metadata": {
            "tags": []
          },
          "execution_count": 55
        }
      ]
    },
    {
      "cell_type": "code",
      "metadata": {
        "id": "rvaKGyS9cHvB",
        "colab_type": "code",
        "colab": {
          "base_uri": "https://localhost:8080/",
          "height": 295
        },
        "outputId": "6b5a53e6-12f5-4b6f-dc05-97a152069a6d"
      },
      "source": [
        "#lets try and evaluate on unknown test set \n",
        "#load in test_data\n",
        "labels_test=pd.read_csv(join(root,'test_labels.csv'),index_col=0)\n",
        "print(labels_test.head())\n",
        "print(labels_test.info())\n",
        "target_test=to_categorical(labels_test['bottle'])\n",
        "\n"
      ],
      "execution_count": 52,
      "outputs": [
        {
          "output_type": "stream",
          "text": [
            "                                 bottle\n",
            "image                                  \n",
            "2020-06-23 08:52:18.638263.jpeg       0\n",
            "2020-06-23 08:52:26.978667.jpeg       0\n",
            "2020-06-23 08:52:28.502669.jpeg       0\n",
            "2020-06-23 08:52:30.254279.jpeg       0\n",
            "2020-06-23 08:52:32.002719.jpeg       0\n",
            "<class 'pandas.core.frame.DataFrame'>\n",
            "Index: 10 entries, 2020-06-23 08:52:18.638263.jpeg to 2020-06-23 08:52:44.876371.jpeg\n",
            "Data columns (total 1 columns):\n",
            " #   Column  Non-Null Count  Dtype\n",
            "---  ------  --------------  -----\n",
            " 0   bottle  10 non-null     int64\n",
            "dtypes: int64(1)\n",
            "memory usage: 160.0+ bytes\n",
            "None\n"
          ],
          "name": "stdout"
        }
      ]
    },
    {
      "cell_type": "code",
      "metadata": {
        "colab_type": "code",
        "id": "9Xncv7R3daif",
        "colab": {
          "base_uri": "https://localhost:8080/",
          "height": 35
        },
        "outputId": "00be0603-7014-44f9-9c9b-ef2cd23407b7"
      },
      "source": [
        "\n",
        "\n",
        "matrix_test=create_matrix(labels_test)\n",
        "print(matrix_test.shape)\n",
        "\n",
        "\n",
        "ss_matrix_test=ss.fit_transform(matrix_test)\n",
        "\n"
      ],
      "execution_count": 53,
      "outputs": [
        {
          "output_type": "stream",
          "text": [
            "(10, 40000)\n"
          ],
          "name": "stdout"
        }
      ]
    },
    {
      "cell_type": "code",
      "metadata": {
        "id": "L-nQQmr-dRIN",
        "colab_type": "code",
        "colab": {
          "base_uri": "https://localhost:8080/",
          "height": 52
        },
        "outputId": "a33d0942-2e77-4fd8-c62a-d8b2156a6852"
      },
      "source": [
        "model.evaluate(ss_matrix_test,target_test)"
      ],
      "execution_count": 56,
      "outputs": [
        {
          "output_type": "stream",
          "text": [
            "\r10/10 [==============================] - 0s 1ms/step\n"
          ],
          "name": "stdout"
        },
        {
          "output_type": "execute_result",
          "data": {
            "text/plain": [
              "[2.1252803802490234, 0.8999999761581421]"
            ]
          },
          "metadata": {
            "tags": []
          },
          "execution_count": 56
        }
      ]
    },
    {
      "cell_type": "markdown",
      "metadata": {
        "id": "tR1HVFTdIdPW",
        "colab_type": "text"
      },
      "source": [
        "lets use a CNN and see if this is better \n"
      ]
    }
  ]
}